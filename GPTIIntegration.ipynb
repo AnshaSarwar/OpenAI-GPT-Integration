{
  "nbformat": 4,
  "nbformat_minor": 0,
  "metadata": {
    "colab": {
      "provenance": []
    },
    "kernelspec": {
      "name": "python3",
      "display_name": "Python 3"
    },
    "language_info": {
      "name": "python"
    }
  },
  "cells": [
    {
      "cell_type": "code",
      "source": [
        "# install openai package\n",
        "!pip install openai"
      ],
      "metadata": {
        "colab": {
          "base_uri": "https://localhost:8080/"
        },
        "id": "4bRSA95T_fsV",
        "outputId": "f8ee06b6-04ab-40ef-a9d4-5a221f60145f"
      },
      "execution_count": 5,
      "outputs": [
        {
          "output_type": "stream",
          "name": "stdout",
          "text": [
            "Requirement already satisfied: openai in /usr/local/lib/python3.10/dist-packages (1.6.1)\n",
            "Requirement already satisfied: anyio<5,>=3.5.0 in /usr/local/lib/python3.10/dist-packages (from openai) (3.7.1)\n",
            "Requirement already satisfied: distro<2,>=1.7.0 in /usr/lib/python3/dist-packages (from openai) (1.7.0)\n",
            "Requirement already satisfied: httpx<1,>=0.23.0 in /usr/local/lib/python3.10/dist-packages (from openai) (0.26.0)\n",
            "Requirement already satisfied: pydantic<3,>=1.9.0 in /usr/local/lib/python3.10/dist-packages (from openai) (1.10.13)\n",
            "Requirement already satisfied: sniffio in /usr/local/lib/python3.10/dist-packages (from openai) (1.3.0)\n",
            "Requirement already satisfied: tqdm>4 in /usr/local/lib/python3.10/dist-packages (from openai) (4.66.1)\n",
            "Requirement already satisfied: typing-extensions<5,>=4.7 in /usr/local/lib/python3.10/dist-packages (from openai) (4.9.0)\n",
            "Requirement already satisfied: idna>=2.8 in /usr/local/lib/python3.10/dist-packages (from anyio<5,>=3.5.0->openai) (3.6)\n",
            "Requirement already satisfied: exceptiongroup in /usr/local/lib/python3.10/dist-packages (from anyio<5,>=3.5.0->openai) (1.2.0)\n",
            "Requirement already satisfied: certifi in /usr/local/lib/python3.10/dist-packages (from httpx<1,>=0.23.0->openai) (2023.11.17)\n",
            "Requirement already satisfied: httpcore==1.* in /usr/local/lib/python3.10/dist-packages (from httpx<1,>=0.23.0->openai) (1.0.2)\n",
            "Requirement already satisfied: h11<0.15,>=0.13 in /usr/local/lib/python3.10/dist-packages (from httpcore==1.*->httpx<1,>=0.23.0->openai) (0.14.0)\n"
          ]
        }
      ]
    },
    {
      "cell_type": "code",
      "source": [
        "# Importing OpenAI\n",
        "from openai import OpenAI"
      ],
      "metadata": {
        "id": "CfrqZ6TyC9Oi"
      },
      "execution_count": 6,
      "outputs": []
    },
    {
      "cell_type": "code",
      "source": [
        "# Initialize the OpenAI client with the API key (replace \"API-KEY\" with your actual API key)\n",
        "client = OpenAI(api_key=\"API-KEY\")"
      ],
      "metadata": {
        "id": "qTAdyIcBkHMN"
      },
      "execution_count": 12,
      "outputs": []
    },
    {
      "cell_type": "code",
      "execution_count": 13,
      "metadata": {
        "colab": {
          "base_uri": "https://localhost:8080/"
        },
        "id": "QSSaOmlt--k7",
        "outputId": "648b19ec-b8cf-4be6-db88-dd2667ed466c"
      },
      "outputs": [
        {
          "output_type": "stream",
          "name": "stdout",
          "text": [
            "ChatCompletion(id='chatcmpl-8Yqj7lPHQRlbyjRuth4s2AYeZUV2I', choices=[Choice(finish_reason='stop', index=0, logprobs=None, message=ChatCompletionMessage(content='The World Series in 2020 was played at Globe Life Field in Arlington, Texas.', role='assistant', function_call=None, tool_calls=None))], created=1703316525, model='gpt-3.5-turbo-0613', object='chat.completion', system_fingerprint=None, usage=CompletionUsage(completion_tokens=18, prompt_tokens=53, total_tokens=71))\n"
          ]
        }
      ],
      "source": [
        "# Sending a chat completion request using the initialized client\n",
        "response = client.chat.completions.create(\n",
        "    model=\"gpt-3.5-turbo\",  # Specify the model to use for the chat completion\n",
        "    messages=[\n",
        "        {\"role\": \"system\", \"content\": \"You are a helpful assistant.\"},  # System message\n",
        "        {\"role\": \"user\", \"content\": \"Who won the world series in 2020?\"},  # User message\n",
        "        {\"role\": \"assistant\", \"content\": \"The Los Angeles Dodgers won the World Series in 2020.\"},  # Assistant message\n",
        "        {\"role\": \"user\", \"content\": \"Where was it played?\"}  # User message\n",
        "    ]\n",
        ")\n",
        "\n",
        "# Printing the response received from the completion request\n",
        "print(response)\n"
      ]
    },
    {
      "cell_type": "code",
      "source": [
        "# Define the prompt for the chat completion\n",
        "prompt = 'What is 2+2'\n",
        "\n",
        "# Sending a chat completion request using the initialized client and the provided prompt\n",
        "response = client.chat.completions.create(\n",
        "    model=\"gpt-3.5-turbo\",  # Specify the model to use for the chat completion\n",
        "    messages=[\n",
        "        {\"role\": \"system\", \"content\": \"You are a helpful assistant.\"},  # System message\n",
        "        {\"role\": \"user\", \"content\": prompt}  # User message containing the prompt\n",
        "    ]\n",
        ")\n",
        "\n",
        "# Printing the response received from the completion request\n",
        "print(response)\n"
      ],
      "metadata": {
        "colab": {
          "base_uri": "https://localhost:8080/"
        },
        "id": "IsYEgU9r_ZRB",
        "outputId": "3ce36add-79e0-4a1d-813b-29621d669b44"
      },
      "execution_count": 14,
      "outputs": [
        {
          "output_type": "stream",
          "name": "stdout",
          "text": [
            "ChatCompletion(id='chatcmpl-8YqjCMJrhj7N8X9rju0vAXbotnaCt', choices=[Choice(finish_reason='stop', index=0, logprobs=None, message=ChatCompletionMessage(content='2 + 2 equals 4.', role='assistant', function_call=None, tool_calls=None))], created=1703316530, model='gpt-3.5-turbo-0613', object='chat.completion', system_fingerprint=None, usage=CompletionUsage(completion_tokens=8, prompt_tokens=23, total_tokens=31))\n"
          ]
        }
      ]
    },
    {
      "cell_type": "code",
      "source": [
        "# Define the prompt for the chat completion\n",
        "prompt = \"Give me some information about steradian?\"\n",
        "\n",
        "# Sending a chat completion request using the initialized client, providing system messages and the user prompt\n",
        "response = client.chat.completions.create(\n",
        "    model=\"gpt-3.5-turbo\",  # Specify the model to use for the chat completion\n",
        "    messages=[\n",
        "        {\n",
        "            \"role\": \"system\",\n",
        "            \"content\": \"You're a Physics Chatbot. \\\n",
        "                        You're here to particularly read the given context only. \\\n",
        "                        You're here to help with physics-related questions you've got from the given context only. \\\n",
        "                        Feel free to answer queries about given physics context. Only handle physics-related queries. \\\n",
        "                        If queries are not about given physics context, say 'Sorry! I won't be able to assist'.\"\n",
        "        },  # System message setting the context for the Physics Chatbot\n",
        "        {\n",
        "            \"role\": \"system\",\n",
        "            \"content\": \"The steradian is the solid angle (three-dimensional angle) \\\n",
        "                        subtended at the centre of a sphere by an area of its surface \\\n",
        "                        equal to the square of radius of the sphere.\"\n",
        "        },  # System message providing physics context\n",
        "        {\"role\": \"user\", \"content\": prompt}  # User message with the prompt\n",
        "    ]\n",
        ")\n",
        "\n",
        "# Printing the response received from the completion request\n",
        "print(response)\n"
      ],
      "metadata": {
        "colab": {
          "base_uri": "https://localhost:8080/"
        },
        "id": "McbrJyIKCREe",
        "outputId": "8ad29baa-8a17-41c8-faad-47bb55a3b237"
      },
      "execution_count": 15,
      "outputs": [
        {
          "output_type": "stream",
          "name": "stdout",
          "text": [
            "ChatCompletion(id='chatcmpl-8YqjGTkhINyPDDtMSIYmdpRIKhD4z', choices=[Choice(finish_reason='stop', index=0, logprobs=None, message=ChatCompletionMessage(content=\"The steradian (symbol: sr) is the SI unit of solid angle, representing three-dimensional angles. It is defined as the solid angle subtended at the center of a sphere by an area on the sphere's surface that is equal to the square of the sphere's radius.\\n\\nTo visualize this, imagine a sphere with a radius of r. If we take a patch on the surface of the sphere that has an area equal to r^2, the solid angle subtended by this area at the center of the sphere is exactly one steradian.\\n\\nOne steradian is equal to the solid angle that covers the entire surface area of a sphere with a radius of one meter. In other words, a complete sphere has a solid angle of 4π steradians (which is approximately 12.57 square radians). The steradian is dimensionless, as it is defined based on the ratio of areas.\\n\\nThe steradian is commonly used in various areas of physics, such as optics, radiometry, and astronomy, to measure solid angles and the distribution of light or radiation in three dimensions. It is an essential quantity for understanding concepts like luminous intensity, radiant intensity, and flux density.\\n\\nIn summary, the steradian is a unit of solid angle, defining the angular extent of a region on the surface of a sphere. It is widely used in the field of physics to measure and characterize three-dimensional angles.\", role='assistant', function_call=None, tool_calls=None))], created=1703316534, model='gpt-3.5-turbo-0613', object='chat.completion', system_fingerprint=None, usage=CompletionUsage(completion_tokens=282, prompt_tokens=138, total_tokens=420))\n"
          ]
        }
      ]
    }
  ]
}